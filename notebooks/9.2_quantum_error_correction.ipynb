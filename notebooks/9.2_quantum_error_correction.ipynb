{
 "cells": [
  {
   "cell_type": "markdown",
   "metadata": {},
   "source": [
    "## 9-2. 量子エラー"
   ]
  },
  {
   "cell_type": "markdown",
   "metadata": {},
   "source": [
    "量子ビットに生じるエラーの根本的な要因自体は実は古典ビットとそれほど違いはない。\n",
    "\n",
    "一つは、外部との環境の相互作用によって一定のレートで外部に情報が漏れ出てしまうことで生じるエラーである。\n",
    "特に物質を量子ビットとして光やマイクロ波などの電磁波で情報を読み書きする場合、電磁波を注入する経路を確保せねばならず、そこから一定量の情報が漏れ出てしまう。\n",
    "また、希釈冷凍機で実験をしていてもマイクロ波はエネルギースケールが環境温度と近いため、熱雑音の影響を大きく受けてしまい、これも定常的なノイズの原因となる。\n",
    "一方、イオンや中性原子のようなトラップを用いて作成する物質の場合、デコヒーレンスに加えて物質がトラップから外れてしまうエラーも問題となる。\n",
    "光を量子ビットとして用いた場合は、温度スケールの違いから上記のようなデコヒーレンスは問題とならない。\n",
    "ただし、光量子ビットをスケールする上ではファイバによる誘導かミラー反射によるパスの確保が必要となり、またレーザの揺らぎの時間単位があるため、\n",
    "これにともなう光子の損失やコヒーレンス時間の経過によるコヒーレンスの消失が実効的には何もしないでも生じる量子ビットの寿命となる。\n",
    "\n",
    "もう一つは、デバイスに対する操作に際して生じるノイズである。\n",
    "超伝導量子ビットなどのマイクロ波を用いる操作の場合、操作に際するエラーはマイクロ波の周波数やパワーの揺らぎによるノイズ、また意図しない相互作用項に寄与によるバイアスなどが挙げられる。\n",
    "こうしたノイズは反転などにより打ち消しが可能なバイアスノイズとそうでない確率的なノイズに分けられる。また、ノイズの結果も最終的に0,1のどちらかに移動してしまうノイズと、0,1のどちらでもない状態に移動してしまうleakageに分けられる。確率的なノイズやleakageのようなノイズはエラー訂正の観点からするとより深刻である。\n",
    "こうしたエラーは原理的にはパルスのキャリブレーションやキャンセルパルスの印加で回避可能だが、膨大なビットのキャリブレーションは原則的に困難を極める。イオンや中性原子の場合も事情は同様である。\n",
    "光を量子ビットとして用いる場合、光学結晶との相互作用を介して操作を行うが、この場合物質とはまた異なった問題が生じる。\n",
    "第一に、光量子ビットをユニバーサルに操作するには３次以上の非線形性を有する相互作用が必須であり、こうした高次非線形性は強い吸収をともなうものが多い。\n",
    "このため、非破壊に３次非線形操作を行うのをあきらめ、光量子ビットのエンタングルメントを用いて破壊を伴う光子測定とフィードバックで所望の操作をゲートテレポーテーションという形で非線形操作を実現することが多い。こうした操作は単なる非破壊操作に比べ大きなオーバーヘッドを伴う。\n",
    "また、電磁波を用いた操作は「量子ビットは動かず電磁波が時間とともに送出される」ため、システムのサイズは計算を行う時間に依存しないが、\n",
    "光量子ビットを用いた通常の実験は物質を固定して光学定盤に配置するために、使用する光学機器の数は計算時間に依存して増えてしまう。\n",
    "これを回避するためには、一度使用した光学装置をループを介して再度利用する時間多重化が必要となる。こうした光学系の時間多重化は現在盛んに研究がおこなわれている。\n",
    "\n"
   ]
  },
  {
   "cell_type": "markdown",
   "metadata": {},
   "source": [
    "\n",
    "### 量子エラー訂正\n",
    "量子ビットは通常のビットを拡張し、状態の重ね合わせを許したものである。量子エラー訂正では量子ビットを冗長化し、古典誤り訂正と同様に実行的に小さなエラー確率の獲得を目指す。この際、量子ビットの性質から多くの古典符号と事情の異なる点がいくつかあり、そのほとんどが量子誤り訂正を困難にする方向に働く。\n",
    "\n",
    "現代提案されている量子エラー訂正の手法は、原則として線形符号を量子版へと拡張したものである。確認のため、線形符号の枠組みを再掲する。\n",
    "\n",
    "- 符号：生成行列$G$と検査行列$H_c$で特徴づけられる。これらは$GH_c = 0$を満たす。\n",
    "- 符号化前：$k$-bitの横ベクトルデータ $v$ がある。\n",
    "- 符号化: $k \\times n$の生成行列$G$を用いて、符号化した状態$v'$は$v'=vG$となる。\n",
    "- エラー: 符号化後の$v'$にランダムに$n$-bit列 $e$ が足される。\n",
    "- エラー検査: $n \\times (n-k)$の検査行列$H_c$を用いてシンドローム$s = e H_c$が得られる。$s \\neq 0$ならばエラーがあると検知できる。$s=0$ならば、エラーが生じていないか、検査できる限界以上のエラーが生じている。\n",
    "- エラー訂正: $(v'+e)$の値に従って、$k$-bitの横ベクトルデータ $v$ を推測する。$v'+e$から$v$を求めるアルゴリズムを復号アルゴリズムと呼ぶ。\n",
    "- 距離: $e H_c = 0$となる$e$の最小weightが符号の距離$d$である。\n",
    "\n",
    "量子ビットは$|0\\rangle, |1\\rangle$の二状態のみを用い、重ね合わせを利用しない場合、古典ビットの枠組みに乗せることができる。このことを利用し、上記を古典誤り訂正を量子情報の言葉で書きなおすと以下のようになる。\n",
    "\n",
    "- 符号：生成行列$G$と検査行列$H_c$で特徴づけられる。これらは$GH_c = 0$を満たす。\n",
    "- 符号化前：$k$-qubitの計算基底の量子状態 $|v\\rangle$ がある。\n",
    "- 符号化: CNOTとPauli-$X$のみからなる$2^n \\times 2^n$のユニタリ行列$U_G$で、$|vG\\rangle = U_G (|\\psi\\rangle \\otimes |0\\rangle^{n-k})$となるものを$G$から構成できる。\n",
    "- エラー: 符号化後の$|vG\\rangle$にランダムなビットフリップ演算$E = X_1^{e_1} X_2 ^{e_2} \\ldots X_n^{e_n}$が作用し、$E |vG \\rangle = |vG + e \\rangle$となる。\n",
    "- エラー検査: パリティが整合するかを調べる。これは以下の操作に等しい。検査行列$H_c$の$i$列ベクトルを$h_i$とした時、パウリ行列$P_i = Z_1^{h_{i1}} Z_2^{h_{i2}} \\ldots Z_n^{h_{in}}$というパウリ行列を考え、$M_0^{(i)} = (I+P_i)/2, M_1^{(i)} = (I-P_i)/2$というPOVM$\\{M_0^{(i)}, M_1^{(i)}\\}$を考える。状態$E |\\psi' \\rangle$を$n-k$個のPOVM$\\{\\{M_0^{(i)}, M_1^{(i)}\\}\\}_i$で測定し、$n-k$個のビット$s = (vG+e)H_c = eH_c$を得る。この$s$が0であるかを調べる。\n",
    "- 復号: $|vG+e'\\rangle$を$Z$基底で全て測定すると、$n$ビット列$(vG+e)$を得る。$(vG+e)$の値に従って、$R E|vG\\rangle = |vG\\rangle$となるようなユニタリ操作$R = X_1^{e'_1} X_2 ^{e'_2} \\ldots X_n^{e'_n}$を構成する。$(vG+e)$から$e'$を求めるアルゴリズムを復号アルゴリズムと呼ぶ。\n",
    "- 距離: $s = 0$となる$E$の最小weightが符号の距離$d$である。\n",
    "\n",
    "上記のプロトコルは、量子ビットで古典誤り訂正を行う枠組みであり、言っていることは等価である。\n",
    "例として、1bitを3bitに増やして多数決を行う符号を示す。この符号の生成行列は\n",
    "\n",
    "$$\n",
    "G =\\left( \\begin{matrix} 1 & 1 & 1 \\end{matrix} \\right)\n",
    "$$\n",
    "\n",
    "であり、検査行列は\n",
    "\n",
    "$$\n",
    "H_c = \\left( \\begin{matrix} 1 & 0 \\\\ 1 & 1 \\\\ 0 & 1 \\end{matrix} \\right)\n",
    "$$\n",
    "\n",
    "である。"
   ]
  },
  {
   "cell_type": "code",
   "execution_count": 120,
   "metadata": {},
   "outputs": [],
   "source": [
    "# set code info\n",
    "repetition = 3\n",
    "error_probability = 0.2\n",
    "initial_bit = 1"
   ]
  },
  {
   "cell_type": "code",
   "execution_count": 121,
   "metadata": {},
   "outputs": [],
   "source": [
    "def show_quantum_state(state, eps = 1e-10, round_digit=3):\n",
    "    vector = state.get_vector()\n",
    "    state_str = \"\"\n",
    "    qubit_count = int( np.log2(len(vector)+eps))\n",
    "    binary_format = \"{\" + \":0{}b\".format(qubit_count) + \"}\"\n",
    "    for ind in range(len(vector)):\n",
    "        if abs(vector[ind]) > 1e-10:\n",
    "            if len(state_str) > 0:\n",
    "                state_str += \" + \"\n",
    "            state_str += (\"{} |\" + binary_format + \">\").format(round(vector[ind],round_digit ),ind)\n",
    "    print(state_str)"
   ]
  },
  {
   "cell_type": "markdown",
   "metadata": {},
   "source": [
    "量子状態を確保し、初期状態を0-thビットに書き込む。"
   ]
  },
  {
   "cell_type": "code",
   "execution_count": null,
   "metadata": {},
   "outputs": [],
   "source": [
    "## Google Colaboratoryの場合・Qulacsがインストールされていないlocal環境の場合のみ実行してください\n",
    "!pip install qulacs"
   ]
  },
  {
   "cell_type": "code",
   "execution_count": 122,
   "metadata": {},
   "outputs": [
    {
     "name": "stdout",
     "output_type": "stream",
     "text": [
      "(1+0j) |001>\n"
     ]
    }
   ],
   "source": [
    "import numpy as np\n",
    "from qulacs import QuantumState\n",
    "state = QuantumState(repetition)\n",
    "state.set_computational_basis(initial_bit)\n",
    "show_quantum_state(state)"
   ]
  },
  {
   "cell_type": "markdown",
   "metadata": {},
   "source": [
    "符号化の回路を作成する。"
   ]
  },
  {
   "cell_type": "code",
   "execution_count": 123,
   "metadata": {},
   "outputs": [
    {
     "name": "stdout",
     "output_type": "stream",
     "text": [
      "(1+0j) |111>\n"
     ]
    }
   ],
   "source": [
    "from qulacs import QuantumCircuit\n",
    "encode_circuit = QuantumCircuit(repetition)\n",
    "for ind in range(1,repetition):\n",
    "    encode_circuit.add_CNOT_gate(0, ind)\n",
    "encode_circuit.update_quantum_state(state)\n",
    "show_quantum_state(state)"
   ]
  },
  {
   "cell_type": "markdown",
   "metadata": {},
   "source": [
    "シンドローム値を測定する量子回路を作る。現地点では全てのシンドローム値は0である。"
   ]
  },
  {
   "cell_type": "code",
   "execution_count": 124,
   "metadata": {},
   "outputs": [
    {
     "name": "stdout",
     "output_type": "stream",
     "text": [
      "(1+0j) |111>\n",
      "parity(0,1): 0\n",
      "parity(1,2): 0\n"
     ]
    }
   ],
   "source": [
    "from qulacs.gate import Instrument\n",
    "from qulacs.gate import DenseMatrix\n",
    "\n",
    "def parity_measure_gate(fst,scn,register_pos):\n",
    "    parity_measure_matrix_0 = np.zeros( (4,4) )\n",
    "    parity_measure_matrix_1 = np.zeros( (4,4) )\n",
    "    parity_measure_matrix_0[0,0] = parity_measure_matrix_0[3,3] = 1\n",
    "    parity_measure_matrix_1[1,1] = parity_measure_matrix_1[2,2] = 1\n",
    "    parity_measure_0 = DenseMatrix([fst,scn],parity_measure_matrix_0)\n",
    "    parity_measure_1 = DenseMatrix([fst,scn],parity_measure_matrix_1)\n",
    "    parity_measure = Instrument([parity_measure_0, parity_measure_1],register_pos)\n",
    "    return parity_measure\n",
    "\n",
    "parity_measure_circuit = QuantumCircuit(repetition)\n",
    "for ind in range(repetition-1):\n",
    "    parity_measure_circuit.add_gate(parity_measure_gate(ind,ind+1,ind))\n",
    "\n",
    "parity_measure_circuit.update_quantum_state(state)\n",
    "show_quantum_state(state)\n",
    "for ind in range(repetition-1):\n",
    "    print(\"parity({},{}): {}\".format(ind,ind+1,state.get_classical_value(ind)))"
   ]
  },
  {
   "cell_type": "markdown",
   "metadata": {},
   "source": [
    "ランダムなデータ量子ビットに一つビットエラーを起こす。この時、ビットエラーが起きるとは意図しないPauli-$X$操作が入ってしまうことに相当する。量子状態は$|vG+e\\rangle$となる。"
   ]
  },
  {
   "cell_type": "code",
   "execution_count": 125,
   "metadata": {},
   "outputs": [
    {
     "name": "stdout",
     "output_type": "stream",
     "text": [
      "(1+0j) |011>\n"
     ]
    }
   ],
   "source": [
    "# invoke random error\n",
    "from qulacs.gate import Pauli\n",
    "def random_X_error(num_qubit, error_probability):\n",
    "    error_array = []\n",
    "    for _ in range(num_qubit):\n",
    "        if np.random.rand() < error_probability:\n",
    "            error_array.append(1)\n",
    "        else:\n",
    "            error_array.append(0)\n",
    "    return Pauli(np.arange(num_qubit), error_array)\n",
    "error_operator = random_X_error(repetition, error_probability)\n",
    "error_operator.update_quantum_state(state)\n",
    "show_quantum_state(state)"
   ]
  },
  {
   "cell_type": "markdown",
   "metadata": {},
   "source": [
    "再度パリティ測定を回収する。"
   ]
  },
  {
   "cell_type": "code",
   "execution_count": 126,
   "metadata": {},
   "outputs": [
    {
     "name": "stdout",
     "output_type": "stream",
     "text": [
      "(1+0j) |011>\n",
      "parity(0,1): 0\n",
      "parity(1,2): 1\n"
     ]
    }
   ],
   "source": [
    "parity_measure_circuit.update_quantum_state(state)\n",
    "show_quantum_state(state)\n",
    "for ind in range(repetition-1):\n",
    "    print(\"parity({},{}): {}\".format(ind,ind+1,state.get_classical_value(ind)))"
   ]
  },
  {
   "cell_type": "markdown",
   "metadata": {},
   "source": [
    "復号を行う。"
   ]
  },
  {
   "cell_type": "code",
   "execution_count": 135,
   "metadata": {},
   "outputs": [
    {
     "name": "stdout",
     "output_type": "stream",
     "text": [
      "(1+0j) |111>\n"
     ]
    }
   ],
   "source": [
    "# decoding process\n",
    "def compute_recovery_operation(state, repetition):\n",
    "    cand1 = []\n",
    "    cand2 = []\n",
    "    cand1.append(0)\n",
    "    cand2.append(1)\n",
    "    flag = True\n",
    "    for ind in range(repetition-1):\n",
    "        val = state.get_classical_value(ind)\n",
    "        if val == 1:\n",
    "            flag = not flag\n",
    "        if flag:\n",
    "            cand1.append(0)\n",
    "            cand2.append(1)\n",
    "        else:\n",
    "            cand1.append(1)\n",
    "            cand2.append(0)\n",
    "    if np.sum(cand1) < np.sum(cand2):\n",
    "        cand = cand1\n",
    "    else:\n",
    "        cand = cand2\n",
    "    return Pauli(np.arange(repetition), cand)\n",
    "\n",
    "recovery_operation = compute_recovery_operation(state,repetition)\n",
    "recovery_operation.update_quantum_state(state)\n",
    "show_quantum_state(state)"
   ]
  },
  {
   "cell_type": "markdown",
   "metadata": {},
   "source": [
    "一連の操作は最初の量子状態が計算基底でなくても行うことができる。"
   ]
  },
  {
   "cell_type": "code",
   "execution_count": 146,
   "metadata": {},
   "outputs": [
    {
     "name": "stdout",
     "output_type": "stream",
     "text": [
      "initial state\n",
      "(-0.111+0.987j) |000> + (0.053-0.101j) |001>\n",
      "encode\n",
      "(-0.111+0.987j) |000> + (0.053-0.101j) |111>\n",
      "error\n",
      "(-0.111+0.987j) |010> + (0.053-0.101j) |101>\n",
      "parity measurement\n",
      "(-0.111+0.987j) |010> + (0.053-0.101j) |101>\n",
      "recovery\n",
      "(-0.111+0.987j) |000> + (0.053-0.101j) |111>\n"
     ]
    }
   ],
   "source": [
    "# set code info\n",
    "repetition = 3\n",
    "error_probability = 0.2\n",
    "initial_bit = 1\n",
    "\n",
    "from qulacs.gate import RandomUnitary\n",
    "state = QuantumState(repetition)\n",
    "state.set_computational_basis(0)\n",
    "RandomUnitary([0]).update_quantum_state(state)\n",
    "print(\"initial state\")\n",
    "show_quantum_state(state)\n",
    "\n",
    "encode_circuit.update_quantum_state(state)\n",
    "print(\"encode\")\n",
    "show_quantum_state(state)\n",
    "\n",
    "error_operator = random_X_error(repetition, error_probability)\n",
    "error_operator.update_quantum_state(state)\n",
    "print(\"error\")\n",
    "show_quantum_state(state)\n",
    "\n",
    "parity_measure_circuit.update_quantum_state(state)\n",
    "print(\"parity measurement\")\n",
    "show_quantum_state(state)\n",
    "\n",
    "recovery_operation = compute_recovery_operation(state,repetition)\n",
    "recovery_operation.update_quantum_state(state)\n",
    "print(\"recovery\")\n",
    "show_quantum_state(state)\n"
   ]
  },
  {
   "cell_type": "markdown",
   "metadata": {},
   "source": [
    "量子誤り訂正とは、量子状態にビットフリップ(Pauli-$X$)だけではなく、位相フリップ(Pauli-$Z$)のエラーが起きても誤り訂正が可能な枠組ということができる。生じるエラーが確率的なパウリ演算子であると仮定した場合の、量子誤り訂正の枠組みは以下である。\n",
    "\n",
    "- 符号：$n$-qubitに作用する生成ユニタリ $U_G$ と$n-k$個のPOVMの集合$\\{(M_0^{(i)}, M_1^{(i)})\\}_i$で特徴づけられる。これらは任意の$k$-qubit状態 $|\\psi\\rangle$ に対して、$\\langle \\psi,0 | U_G^{\\dagger} M_j^{(i)} U_G | \\psi,0 \\rangle$を満たす。\n",
    "- 符号化前：$k$-qubitの計算基底の量子状態 $|\\psi\\rangle$ がある。\n",
    "- 符号化: ユニタリ行列$U_G$で、$|\\psi' \\rangle = U_G (|\\psi\\rangle \\otimes |0\\rangle^{n-k})$を生成する。\n",
    "- エラー: 符号化後の$|\\psi' \\rangle$にランダムなパウリ演算$E = X_1^{e_1} X_2 ^{e_2} \\ldots X_n^{e_n} Z_1^{e_{n+1}} Z_2 ^{e_{n+2}} \\ldots Z_n^{e_{2n}}$が作用し、$E |\\psi' \\rangle$となる。\n",
    "- エラー検査: 状態$E |\\psi' \\rangle$を$n-k$個のPOVM$\\{\\{M_0^{(i)}, M_1^{(i)}\\}\\}_i$で測定し、$n-k$個のビット$s$を得る。この$s$が0であるかを調べる。\n",
    "- 復号: $s$の値に従って、$R E|vG\\rangle = |vG\\rangle$となるようなユニタリ操作$R = X_1^{e'_1} X_2 ^{e'_2} \\ldots X_n^{e'_n} Z_1^{e'_{n+1}} Z_2 ^{e'_{n+2}} \\ldots Z_n^{e'_{2n}}$を構成する。$s$から$R$を求めるアルゴリズムを量子誤り訂正の復号アルゴリズムと呼ぶ。\n",
    "- 距離: $s = 0$となる$E$の最小weightが符号の距離$d$である。\n",
    "\n",
    "古典誤り訂正から量子誤り訂正の枠組みを構成するにあたっての本質的な変更点がある。\n",
    "量子誤り訂正では位相反転を生じるエラーが発生する。このため、エラーのパウリ演算子$E$はPauli-$X$のみでなく、Pauli-$Z$を含む形になっている。\n",
    "この変更は、符号が位相反転に対しても誤り訂正が可能であることを要請する。符号はPauli-$Z$のエラーに対しても$1$より大きな距離を持たなければならない。古典符号を量子符号の枠組みに直したものはPauli-$Z$に対して$d=1$の符号である。また、一方の符号によるシンドローム測定が$k$-qubitの量子状態を破壊してはならない。このことは、いかなる符号化された状態も $(n-k)$ 個のPOVM測定では区別がつかないということに相当する。従って、全てのPOVMの要素は任意の$k$-qubitを符号化した状態 $|\\psi'\\rangle = U_B (|\\psi\\rangle \\otimes |0\\rangle^{n-k})$ に対して$\\langle \\psi' |M_j^{(i)} | \\psi' \\rangle$が$|\\psi'\\rangle$によらない値である必要がある。\n",
    "\n",
    "後述のスタビライザー符号は上記を満たすような$U_B$とPOVMを与える枠組みである。\n",
    "\n",
    "最後に、古典符号では復号にあたって全ての量子状態を$Z$基底で測定し$(vG+e)$を得ることができたが、量子符号では量子状態の$Z$基底の測定は情報を内部に埋め込んだ情報を破壊するためこうした測定は行えない。また、訂正に用いる操作もPauli-$X$と$Z$が混ざったパウリ演算子になっている。したがって、得られたシンドローム値$s$のみから復号操作$R$を推定するアルゴリズムも量子のための変更が必要になる。"
   ]
  },
  {
   "cell_type": "markdown",
   "metadata": {},
   "source": [
    "### スタビライザー符号\n",
    "パリティ検査符号においてパリティを構成する行列$B$が与えられたように、量子符号においてはPOVMを構成するスタビライザー符号という枠組みがある。\n",
    "スタビライザー符号とは、符号空間を直接指定する代わりにスタビライザー演算子という特定の性質を満たすパウリ演算子の集合を用いて符号空間を指定するものである。\n",
    "\n",
    "スタビライザー演算子の生成元$S$は、以下のような性質を満たすパウリ演算子の集合$S$である。\n",
    "\n",
    "- $S$の各要素は全てに互いに可換である。すなわち、どのような$s,s' \\in S$についても、$ss' = s's$である。\n",
    "- $S$の各要素は全て独立である。すなわち、どのような$s \\in S$についても$S\\setminus \\{s\\}$の集合から生成される群に$s$は含まれない。\n",
    "- $S$から生成される群に$-I$が含まれない。\n",
    "\n",
    "上記が満たされるとき、スタビライザー演算子が指定する論理符号とは、以下のような性質を満たす量子状態の張る部分空間である。\n",
    "\n",
    "- $|\\psi\\rangle$は全ての$s \\in S$について、固有値+1の固有状態である。\n",
    "\n",
    "独立なスタビライザーの生成元が$l$個あるとき、このような量子状態の張る空間の次元は$2^{n-l}$次元である。\n",
    "従って、$n$-qubitの空間に $k$ 論理量子ビットの空間を構築したいとき、$l = n-k$である必要がある。\n",
    "\n",
    "この符号において、シンドローム値は量子状態を$s \\in S$で射影測定した場合の測定結果として与えられる。\n",
    "今計算のために利用されているのは全てのスタビライザー演算子の+1固有空間であるので、スタビライザー演算子の射影測定は興味のある論理量子ビットを破壊することはない。\n",
    "今、簡単のために、それぞれの量子ビットは確率的にパウリ$X,Y,Z$のどれかが起きると仮定する。パウリ$Y$は$X$と$Z$の積なので、パウリの$X$と$Z$の両方が起きる場合とみなすことができる。\n",
    "\n",
    "この時、$i$番目の量子ビットに$X$($Z$)エラーが起きているかどうかを、$e^{(X)}_i$ ($e^{(Z)}_i$)というバイナリで表すことにすると、\n",
    "ある量子ビットを$Z$で測定するということは$e^{(X)}_i$を得ることに相当し、$X$で測定する行為は$e^{(Z)}_i$を得ることに相当する。\n",
    "複数の量子ビットに作用するパウリ演算子で測定した場合、我々はそれぞれのビットの結果のxorを得ることになる。すなわち、\n",
    "$P=Z_2 X_3 Z_4 Z_5$であれば、測定結果は$\\left(e^{(X)}_2 + e^{(Z)}_3 + e^{(X)}_4 + e^{(X)}_5\\right) \\bmod 2$となる。\n",
    "\n",
    "もし、$P$がパウリ$Z$の積のみで、量子ビットに作用するエラーがパウリ$X$によるビットフリップのみであれば、これはいくつかのビットのパリティを計算するパリティ検査と同義である。\n",
    "従って、スタビライザー符号とはパリティ検査符号をパウリ$Z$に関するエラーに対しても適用できるようにした、一種の拡張であることがわかる。\n",
    "\n",
    "\n",
    "あるスタビライザーの生成元が与えられたとき、その符号に対する距離は以下のように考えることができる。\n",
    "まず、スタビライザー群に対する正規化群(Normalizer)を考える。正規化群とは以下のような性質を満たす群である。\n",
    "\n",
    "$$\n",
    "C(S) = \\{p \\in P \\mid \\forall s \\in S, sp = ps \\}\n",
    "$$\n",
    "\n",
    "この時、正規化群からグローバル位相の違いを無視してスタビライザー群を除いたものを論理演算子と呼ぶ。\n",
    "論理演算子とは、シンドロームによってエラーを検知できないが、論理量子状態を変化させる演算の集合である。\n",
    "従って論理演算子を実行するのに十分な量子ビットにエラーが起きてしまうと、我々には検知できないエラーが生じる。\n",
    "\n",
    "あるパウリ演算子$P$が非自明に作用する(パウリ$X,Y,Z$のどれかが作用する)量子ビットの数を$P$のweight $w(P)$とする。\n",
    "この時、符号の距離とは論理演算子の集合で最も小さなweight、すなわち\n",
    "\n",
    "$$\n",
    "d := \\min_{P \\in C(S)\\setminus \\langle S \\rangle} w(P)\n",
    "$$\n",
    "\n",
    "である。\n",
    "\n"
   ]
  },
  {
   "cell_type": "markdown",
   "metadata": {},
   "source": [
    "### トポロジカル符号\n",
    "\n",
    "トポロジカル符号はトポロジカルな物質の縮退した基底状態を論理量子ビットの空間として用いるというアイデアから生まれた符号である。実験の観点からはトポロジカル符号は下記の実験的によい性質満たすスタビライザー符号の一種である。\n",
    "\n",
    "- 検査行列$H_c$が疎行列である。こうした符号は低密度パリティ検査符号との類似性から性能が良いことが知られており、しかも個々のシンドロームは$O(1)$個のパリティとしてあらわされる。\n",
    "- 個々のシンドロームの検査対象のデータ量子ビットが空間的に$O(1)$の距離に固まっている。従って、隣接した量子ビットにしかCNOTがかけられない物理系でも効率的にシンドローム測定が可能である。\n",
    "\n",
    "トポロジカル符号の中でも、二次元平面上に測定量子ビットも含め埋め込むことができる表面符号が実現に最も近いとされている。"
   ]
  },
  {
   "cell_type": "markdown",
   "metadata": {},
   "source": [
    "トポロジカル符号は低密度パリティ検査符号の欠点も引き継いでおり、一般には復号はNP困難となる。現実にはエラーの性質にいくつかの近似を用いることで、効率的に復号アルゴリズムが解ける形にすることが多い。"
   ]
  },
  {
   "cell_type": "markdown",
   "metadata": {},
   "source": [
    "### スタビライザー符号上での計算\n",
    "\n",
    "量子計算は操作に伴ってエラーが生じるため、計算の間は量子状態を符号化したまま演算を行う必要がある。この計算においても、古典の場合とは大きな違いがある。\n",
    "\n",
    "パリティ検査符号では1論理ビットに対する反転操作は、少なくとも$O(d)$、高々$O(n)$ビットに対する反転操作に対応する。これは、明らかに$O(n)$回のビットフリップで実現可能であり、並列化すれば1stepで完了できる。\n",
    "\n",
    "スタビライザー符号では、1論理ビットに対する量子操作は、同様に少なくとも$O(d)$量子ビットに対する何らかのユニタリ操作に対応付けられる。ここで、古典の場合と異なるのは、$O(d)$量子ビットのユニタリ操作を実現するには、一般に$O(2^d)$個のゲートが必要になることである。従って、量子符号上においては1論理ビットに対する操作すら一般に効率的に行うことはできず、誤り訂正操作が新たな誤りを生んでしまい符号上での計算がスケールしなくなってしまう。\n",
    "\n",
    "一方、符号によっては1論理ビットの操作$U$に対応する$O(d)$量子ビットの量子操作$U'$が$O(1)$ステップで完了できるような$U$が存在する。こうした符号上でも効率的に実現可能な論理ビットに対する操作をトランスバーサルな操作と呼ぶ。もし、トランスバーサルな操作がユニバーサルなゲートセットを構築すれば効率的に符号上でユニバーサルな量子計算が行えるが、残念ながらそのようなスタビライザー符号が無いことが証明されている。\n",
    "\n",
    "従って、ユニバーサルな操作のために足りない操作を何らかの形で調達してやる必要がある。表面符号上は$X, Y, Z, H$などはトランスバーサルである。CNOTが可能かは非自明であるが、lattice surgeryなどで効率的に行えることが知られている。$S$,$T$などがトランスバーサルではないため、別の符号で$S$,$T$gate状態などを生成し、これをゲートテレポートする魔法状態蒸留という手法を用いることでユニバーサルなセットをそろえることができる。"
   ]
  }
 ],
 "metadata": {
  "anaconda-cloud": {},
  "kernelspec": {
   "display_name": "Python 3",
   "language": "python",
   "name": "python3"
  },
  "language_info": {
   "codemirror_mode": {
    "name": "ipython",
    "version": 3
   },
   "file_extension": ".py",
   "mimetype": "text/x-python",
   "name": "python",
   "nbconvert_exporter": "python",
   "pygments_lexer": "ipython3",
   "version": "3.7.3"
  },
  "varInspector": {
   "cols": {
    "lenName": 16,
    "lenType": 16,
    "lenVar": 40
   },
   "kernels_config": {
    "python": {
     "delete_cmd_postfix": "",
     "delete_cmd_prefix": "del ",
     "library": "var_list.py",
     "varRefreshCmd": "print(var_dic_list())"
    },
    "r": {
     "delete_cmd_postfix": ") ",
     "delete_cmd_prefix": "rm(",
     "library": "var_list.r",
     "varRefreshCmd": "cat(var_dic_list()) "
    }
   },
   "types_to_exclude": [
    "module",
    "function",
    "builtin_function_or_method",
    "instance",
    "_Feature"
   ],
   "window_display": false
  }
 },
 "nbformat": 4,
 "nbformat_minor": 2
}
