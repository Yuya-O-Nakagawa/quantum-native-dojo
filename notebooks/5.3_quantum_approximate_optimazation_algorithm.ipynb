{
 "cells": [
  {
   "cell_type": "markdown",
   "metadata": {},
   "source": [
    "## 5-3. Quantum Approximate Optimazation Algorithm (QAOA): 量子近似最適化アルゴリズム"
   ]
  },
  {
   "cell_type": "markdown",
   "metadata": {},
   "source": [
    "### 概要\n",
    "\n",
    "この節では、NISQアルゴリズムの一つと考えられる Quantum Approximate Optimazation Algorithm (QAOA; 量子近似最適化アルゴリズム)を学ぶ。QAOAは、量子アニーリングと同様に、組み合わせ最適化問題の解を求めるためのアルゴリズムである。"
   ]
  },
  {
   "cell_type": "markdown",
   "metadata": {},
   "source": [
    "### 問題設定\n",
    "QAOAでは、$z = z_{1}z_{2}\\cdots z_{n} \\: (z_i =0,1)$ という$n$桁のビット列$z$に関して、コスト関数$C(z) = \\sum_\\alpha C_\\alpha(z)$が最小になるような$z$を探す問題を考える。$C_\\alpha(z)$はビット列$z$を引数にとる何らかの関数で、ここでは特に、イジングモデル的な$C_\\alpha(z) = z_i\\cdot z_j$といった項を考えれば良い。\n",
    "\n",
    "この最小化問題を解くために、$n$**ビットの量子系を用いる**。そして、$\\beta = (\\beta^{(1)}, \\cdots \\beta^{(p)}), \\gamma = (\\gamma^{(1)}, \\cdots \\gamma^{(p)})$ をパラメータとして、次のような量子状態を考える。\n",
    "\n",
    "\\begin{align}\n",
    "&|s\\rangle = |+\\rangle^{\\otimes n} = \\frac{1}{2^{n/2}} \\sum_{z=0}^{2^{n}-1} |z\\rangle, \\\\\n",
    "&|\\beta, \\gamma \\rangle = U_X(\\beta^{(p)}) U_C(\\gamma^{(p)}) \\cdots U_X(\\beta^{(1)}) U_C(\\gamma^{(1)}) |s\\rangle. \n",
    "\\end{align}\n",
    "\n",
    "ここで $|+\\rangle=\\frac{1}{\\sqrt{2}}(|0\\rangle+|1\\rangle)$は$X$演算子の固有状態$X|+\\rangle=|+\\rangle$であり、 $U_C(\\gamma), U_X(\\beta)$ は次のように定義される。\n",
    "\n",
    "$$\n",
    "U_C(\\gamma^{(i)}) = e^{-i\\gamma^{(i)} C(Z)} = \\prod_{\\alpha} e^{-i\\gamma^{(i)} C_{\\alpha}(Z)}, \\\\\n",
    "U_X(\\beta^{(i)}) = e^{-i\\beta^{(i)} \\sum_{j=1}^n X_j} = \\prod_{j =1}^n e^{-i\\beta^{(i)} X_j}.\n",
    "$$\n",
    "\n",
    "状態$|\\beta, \\gamma \\rangle$やこれらの演算子の意味を説明するには量子アニーリングの知識が必要になる。とりあえず、QAOAを使うだけならこういうものだと受け入れて使ってしまえば良い。    \n",
    "（なお、$C(Z)$というのはビット列を引数にとる関数$C(z)$の入力にパウリ演算子$Z_1\\cdots Z_n$と代入したものであることに注意。）\n",
    "\n",
    "そして、$F(\\beta, \\gamma) = \\langle{\\bf \\gamma, \\,\\beta}|C(Z)|{\\bf \\gamma, \\,\\beta}\\rangle$ を最小にするような$\\beta,\\gamma$を探索することで、元々の最適化問題の答えを探そうとするのが、QAOAアルゴリズムである。"
   ]
  },
  {
   "cell_type": "markdown",
   "metadata": {},
   "source": [
    "### QAOAアルゴリズムの手順\n",
    "具体的なQAOAアルゴリズムの手順は以下の通りである。\n",
    "\n",
    "1. 量子コンピュータ上で重ね合わせ状態$|s\\rangle = |+\\rangle^{\\otimes n}$を作る。\n",
    "2. パラメータ$\\beta, \\gamma$に応じて、量子状態に$U_C(\\gamma^{(i)}),U_X(\\beta^{(i)})$をかけていき、状態$|\\beta, \\gamma \\rangle$を得る。\n",
    "3. 量子コンピュータを用いて $\\langle \\beta, \\gamma |C(Z)|\\beta, \\gamma \\rangle$ を測定する。\n",
    "4. 古典コンピュータで、$\\langle \\beta, \\gamma |C(Z)|\\beta, \\gamma \\rangle$ がより小さくなるようにパラメータ $\\beta, \\gamma$ をアップデートする。\n",
    "5. 1〜4を繰り返し、最適な $\\beta^*, \\gamma^*$ を得る。\n",
    "6. 状態 $|\\beta^*, \\gamma^* \\rangle$ に対して、$z$方向の射影測定を複数回実行し、**得られた（良さそうな）測定結果** $z_1\\cdots z_n$ **を元々の最適化問題の解として採用**する。（注：測定結果 $z_1\\cdots z_n$ は古典ビット）\n",
    "\n",
    "少々ややこしいので、具体例を実装しながら確認していこう。"
   ]
  },
  {
   "cell_type": "markdown",
   "metadata": {},
   "source": [
    "### 実装：Maxcut問題をQAOAで解く\n",
    "\n",
    "ここでは具体例としてMaxcut問題という問題を取り上げる。   \n",
    "[Maxcut問題](https://ja.wikipedia.org/wiki/カット_(グラフ理論))は、$n$個の頂点を持つグラフ（例えば下図）を２つに分割する時に、分割される辺の数の最大値を求める問題である。\n",
    "\n",
    "![maxcut-example](figs/5/maxcut_example.png)\n",
    "(図の出典：Wikipedia [カット_(グラフ理論)](https://ja.wikipedia.org/wiki/カット_(グラフ理論)))\n",
    "\n",
    "この問題をQAOAで扱えるような最適化問題に帰着させるには、以下のようにする。\n",
    "頂点を２つのグループに分けた時、片方のグループに属する頂点に+1、もう一方のグループに-1を付与するとすれば、コスト関数\n",
    "\n",
    "$$\n",
    "C(z) = -\\frac{1}{2} \\sum_{\\text{辺で繋がっている頂点}i,j} ( 1 - z_i z_j)\n",
    "$$\n",
    "\n",
    "は (グループ分けによって分割される辺の数) $\\times (-1)$ を表す。\n",
    "ゆえに、$C(z)$を最小化するようなビット列$z=z_1\\cdots z_n$を見つければ、分割する辺の数を最小化するような頂点の分け方を見つけたことになる。"
   ]
  },
  {
   "cell_type": "markdown",
   "metadata": {},
   "source": [
    "以下では、長方形(頂点が４つの図形)のmaxcut問題を解いてみよう。\n",
    "![maxcut](figs/5/maxcut_4nodes.png)\n",
    "\n",
    "この場合、$C(Z)$は\n",
    "\n",
    "$$\n",
    "\\begin{eqnarray}\n",
    "C(Z) &=& -\\frac{1}{2}(1-Z_{0}Z_{1})-\\frac{1}{2}(1-Z_{1}Z_{2})-\\frac{1}{2}(1-Z_{2}Z_{3})-\\frac{1}{2}(1-Z_{3}Z_{1})\\\\\n",
    "&=&\\frac{1}{2}(Z_{0}Z_{1}+Z_{1}Z_{2}+Z_{2}Z_{3}+Z_{3}Z_{1}) - 2\n",
    "\\end{eqnarray}\n",
    "$$\n",
    "\n",
    "となる。第二項は定数だから、以下では\n",
    "\n",
    "$$\n",
    "C(Z) = \\frac{1}{2}(Z_{0}Z_{1}+Z_{1}Z_{2}+Z_{2}Z_{3}+Z_{3}Z_{1}) \n",
    "$$\n",
    "\n",
    "とおく。"
   ]
  },
  {
   "cell_type": "markdown",
   "metadata": {},
   "source": [
    "#### $p=1$の場合\n",
    "まずは$p=1$の場合の実装をやってみよう。この時、$|\\beta, \\gamma \\rangle = U_X(\\beta^{(1)}) U_C(\\gamma^{(1)}) |s\\rangle$ である。\n",
    "\n",
    "$U_C(\\gamma^{(1)}) = \\prod_{i=0}^3 e^{-i\\gamma^{(1)} Z_i Z_{i+1} }$ を実装するには、4-2節でも用いた関係\n",
    "\n",
    "$$\n",
    "e^{-i \\delta Z_i Z_{i+1}}　= \\operatorname{CNOT}_{i,i+1} \\cdot e^{-i\\delta Z_{i+1}} \\cdot \\operatorname{CNOT}_{i,i+1}.\n",
    "$$\n",
    "\n",
    "を使えば良い。（行列に直して計算すると、合っていることがわかる。）\n",
    "\n",
    "以上を踏まえて、$|\\beta, \\gamma \\rangle$ を構成して $\\langle \\beta, \\gamma | C(Z) |\\beta, \\gamma \\rangle$ を測定し、それを最小化する工程を実装するとこのようになる。"
   ]
  },
  {
   "cell_type": "code",
   "execution_count": null,
   "metadata": {},
   "outputs": [],
   "source": [
    "## Google Colaboratoryの場合・Qulacsがインストールされていないlocal環境の場合のみ実行してください\n",
    "!pip install qulacs"
   ]
  },
  {
   "cell_type": "code",
   "execution_count": 1,
   "metadata": {},
   "outputs": [
    {
     "name": "stdout",
     "output_type": "stream",
     "text": [
      "-0.999999999499185\n",
      "[1.17809152 0.39269362]\n"
     ]
    }
   ],
   "source": [
    "#必要なライブラリをインポートする\n",
    "from qulacs import QuantumState, QuantumCircuit, Observable, PauliOperator\n",
    "from qulacs.gate import H, CNOT, RX, RZ\n",
    "from scipy.optimize import minimize\n",
    "import numpy as np\n",
    "\n",
    "## 頂点の数\n",
    "n = 4 \n",
    "\n",
    "## C(Z)をqulacs.Observableとして定義\n",
    "cost_observable = Observable(n) \n",
    "for i in range(n):\n",
    "    cost_observable.add_operator( PauliOperator(\"Z {:} Z {:}\".format(i, (i+1)%n), 0.5) )\n",
    "\n",
    "# circuit に U_C(gamma) を加える関数\n",
    "def add_U_C(circuit, gamma):\n",
    "    for i in range(n):\n",
    "        j = (i+1) % n\n",
    "        circuit.add_CNOT_gate(i, j)\n",
    "        circuit.add_gate(RZ(j, -2*gamma)) ## qulacsでは RZ(theta)=e^{i*theta/2*Z}\n",
    "        circuit.add_CNOT_gate(i, j)\n",
    "    return circuit\n",
    "    \n",
    "# circuit に U_X(beta) を加える関数\n",
    "def add_U_X(circuit, beta):\n",
    "    for i in range(n):\n",
    "        circuit.add_gate(RX(i, -2*beta))\n",
    "    return circuit\n",
    "\n",
    "# p=1 の |beta, gamma> を作って <beta, gamma| C(Z) |beta, gamma> を返す関数\n",
    "# x = [beta, gamma]\n",
    "def QAOA_output_onelayer(x): \n",
    "    beta, gamma = x\n",
    "\n",
    "    circuit = QuantumCircuit(n)\n",
    "    ## 重ね合わせを作るため、アダマールゲートをかける\n",
    "    for i in range(n):\n",
    "        circuit.add_H_gate(i)\n",
    "    ## U_C, U_Xをかける\n",
    "    circuit =  add_U_C(circuit, gamma)\n",
    "    circuit =  add_U_X(circuit, beta)\n",
    "\n",
    "    ## |beta, gamma>を作る\n",
    "    state = QuantumState(n)\n",
    "    state.set_zero_state()                     \n",
    "    circuit.update_quantum_state(state)\n",
    "    return cost_observable.get_expectation_value(state)                 \n",
    "\n",
    "## 初期値\n",
    "x0 = np.array( [0.1, 0.1 ])\n",
    "\n",
    "## scipy.minimize を用いて最小化\n",
    "result = minimize(QAOA_output_onelayer, x0, options={'maxiter':500}, method='powell')\n",
    "print(result.fun) # 最適化後の値\n",
    "print(result.x) # 最適化後の(beta, gamma)"
   ]
  },
  {
   "cell_type": "markdown",
   "metadata": {},
   "source": [
    "最小値-1と、その時の$\\beta^{(1)}, \\gamma^{(1)}$の値が得られた。   \n",
    "この最適な状態 $|\\beta, \\gamma\\rangle$ を$z$方向に射影測定した時にどのような値が得られるか、具体的に見てみよう。"
   ]
  },
  {
   "cell_type": "code",
   "execution_count": 2,
   "metadata": {},
   "outputs": [
    {
     "name": "stdout",
     "output_type": "stream",
     "text": [
      "[0.01562503 0.01562568 0.01562568 0.0781236  0.01562568 0.26562503\n",
      " 0.0781236  0.01562568 0.01562568 0.0781236  0.26562503 0.01562568\n",
      " 0.0781236  0.01562568 0.01562568 0.01562503]\n"
     ]
    }
   ],
   "source": [
    "# 最適なbeta, gammaを使って |beta, gamma> をつくる\n",
    "beta_opt, gamma_opt = result.x\n",
    "\n",
    "circuit = QuantumCircuit(n)\n",
    "## 重ね合わせを作るため、アダマールゲートをかける\n",
    "for i in range(n):\n",
    "    circuit.add_H_gate(i)\n",
    "## U_C, U_Xをかける\n",
    "circuit =  add_U_C(circuit, gamma_opt)\n",
    "circuit =  add_U_X(circuit, beta_opt)\n",
    "\n",
    "## |beta, gamma>を作る\n",
    "state = QuantumState(n)\n",
    "state.set_zero_state()                     \n",
    "circuit.update_quantum_state(state)\n",
    "\n",
    "## z方向に観測した時の確率分布を求める. (状態ベクトルの各成分の絶対値の二乗=観測確率)\n",
    "probs = np.abs(state.get_vector())**2\n",
    "print(probs)"
   ]
  },
  {
   "cell_type": "code",
   "execution_count": 5,
   "metadata": {},
   "outputs": [
    {
     "data": {
      "image/png": "[encoded data removed]",
      "text/plain": [
       "<Figure size 720x360 with 1 Axes>"
      ]
     },
     "metadata": {
      "needs_background": "light"
     },
     "output_type": "display_data"
    }
   ],
   "source": [
    "# プロットする\n",
    "import matplotlib.pyplot as plt\n",
    "%matplotlib inline\n",
    "\n",
    "## z方向に射影測定した時に得られる可能性があるビット列\n",
    "z_basis = [format(i,\"b\").zfill(n) for i in range(probs.size)]\n",
    "\n",
    "plt.figure(figsize=(10, 5))\n",
    "plt.xlabel(\"states\")\n",
    "plt.ylabel(\"probability(%)\")\n",
    "plt.bar(z_basis, probs*100)\n",
    "plt.show()"
   ]
  },
  {
   "cell_type": "markdown",
   "metadata": {},
   "source": [
    "つまり、$z$方向の射影測定を行うと、`0101` か `1010` が測定される確率が高いことが分かった。これらのビット列は頂点1と頂点3、頂点2と頂点4が同じグループになるということを意味するから、以下のような分割を表している。\n",
    "\n",
    "![maxcut-p-1](figs/5/maxcut_result_p1.png)\n",
    "\n",
    "この時、図形を分割する曲線が横切る辺の数は4本であり、この図形を分割する時に通る辺の数の最大値である。\n",
    "\n",
    "よって、最適化した$|\\beta, \\gamma\\rangle$に射影測定を行い、ある程度多数の測定結果を行って測定確率が高いビット列を採用すれば、もともと解きたかった最適化問題$C(z)$の解が得られた、ということになる。   \n",
    "一応、これでめでたしめでたし、と言えるのだが、最適化したコスト関数$\\langle \\beta, \\gamma | C(Z) |\\beta, \\gamma \\rangle$ の値は−1だったことを思い出してほしい。$\\langle 0101 | C(Z) |0101 \\rangle = \\langle 1010 | C(Z) |1010 \\rangle = -2$なので、コスト関数については正しい値が得られていない！ これはvariationalな状態$|\\beta, \\gamma \\rangle$ が十分な表現能力を持たず、真の解$|0101\\rangle, |1010\\rangle$ を表現できなかったことに由来する。\n",
    "\n",
    "そこで、回路をより複雑にした$p=2$の場合に結果がどう変わるか見てみよう。\n",
    "\n",
    "※ ちなみに、$|\\beta, \\gamma\\rangle$に100回の測定を行ってビット列$z$を100通り得て、それぞれについて$C(z)$を古典コンピュータで計算してみて最も良かったものを採用する、といった戦略を用いれば、このような問題は生じないかもしれない。"
   ]
  },
  {
   "cell_type": "markdown",
   "metadata": {},
   "source": [
    "#### $p=2$の場合"
   ]
  },
  {
   "cell_type": "code",
   "execution_count": 8,
   "metadata": {},
   "outputs": [
    {
     "name": "stdout",
     "output_type": "stream",
     "text": [
      "-1.9999996223652372\n",
      "[1.01150163 1.11872823 0.45213228 0.55937865]\n",
      "[1.10913271e-15 9.96406007e-09 9.96406007e-09 2.72762241e-08\n",
      " 9.96406007e-09 4.99999906e-01 2.72762241e-08 9.96406007e-09\n",
      " 9.96406007e-09 2.72762241e-08 4.99999906e-01 9.96406007e-09\n",
      " 2.72762241e-08 9.96406007e-09 9.96406007e-09 1.10913271e-15]\n"
     ]
    },
    {
     "data": {
      "image/png": "[encoded data removed]",
      "text/plain": [
       "<Figure size 720x360 with 1 Axes>"
      ]
     },
     "metadata": {
      "needs_background": "light"
     },
     "output_type": "display_data"
    }
   ],
   "source": [
    "#必要なライブラリをインポートする\n",
    "from qulacs import QuantumState, QuantumCircuit, Observable, PauliOperator\n",
    "from qulacs.gate import H, CNOT, RX, RZ\n",
    "from scipy.optimize import minimize\n",
    "import numpy as np\n",
    "\n",
    "## 頂点の数\n",
    "n = 4 \n",
    "\n",
    "## C(Z)をqulacs.Observableとして定義\n",
    "cost_observable = Observable(n) \n",
    "for i in range(n):\n",
    "    cost_observable.add_operator( PauliOperator(\"Z {:} Z {:}\".format(i, (i+1)%n), 0.5) )\n",
    "\n",
    "# circuit に U_C(gamma) を加える関数\n",
    "def add_U_C(circuit, gamma):\n",
    "    for i in range(n):\n",
    "        j = (i+1) % n\n",
    "        circuit.add_CNOT_gate(i, j)\n",
    "        circuit.add_gate(RZ(j, -2*gamma)) ## qulacsでは RZ(theta)=e^{i*theta/2*Z}\n",
    "        circuit.add_CNOT_gate(i, j)\n",
    "    return circuit\n",
    "    \n",
    "# circuit に U_X(beta) を加える関数\n",
    "def add_U_X(circuit, beta):\n",
    "    for i in range(n):\n",
    "        circuit.add_gate(RX(i, -2*beta))\n",
    "    return circuit\n",
    "\n",
    "# p=2 の |beta, gamma> を作って <beta, gamma| C(Z) |beta, gamma> を返す関数\n",
    "# x = [beta0, beta1, gamma0, gamma1]\n",
    "def QAOA_output_twolayer(x): \n",
    "    beta0, beta1, gamma0, gamma1 = x\n",
    "\n",
    "    circuit = QuantumCircuit(n)\n",
    "    ## 重ね合わせを作るため、アダマールゲートをかける\n",
    "    for i in range(n):\n",
    "        circuit.add_H_gate(i)\n",
    "    ## U_C, U_Xをかける\n",
    "    circuit =  add_U_C(circuit, gamma0)\n",
    "    circuit =  add_U_X(circuit, beta0)\n",
    "    circuit =  add_U_C(circuit, gamma1)\n",
    "    circuit =  add_U_X(circuit, beta1)\n",
    "\n",
    "    ## |beta, gamma>を作る\n",
    "    state = QuantumState(n)\n",
    "    state.set_zero_state()                     \n",
    "    circuit.update_quantum_state(state)\n",
    "    return cost_observable.get_expectation_value(state)                 \n",
    "\n",
    "## 初期値\n",
    "x0 = np.array( [0.1, 0.1, 0.2, 0.3 ])\n",
    "\n",
    "## scipy.minimize を用いて最小化\n",
    "result = minimize(QAOA_output_twolayer, x0, options={'maxiter':500}, method='powell')\n",
    "print(result.fun) # 最適化後の値\n",
    "print(result.x) # 最適化後の[beta0, beta1, gamma0, gamma1]\n",
    "\n",
    "## 最適化後の状態を測定した時の確率分布を調べる\n",
    "beta0, beta1, gamma0, gamma1 = result.x\n",
    "\n",
    "circuit = QuantumCircuit(n)\n",
    "## 重ね合わせを作るため、アダマールゲートをかける\n",
    "for i in range(n):\n",
    "    circuit.add_H_gate(i)\n",
    "## U_C, U_Xをかける\n",
    "circuit =  add_U_C(circuit, gamma0)\n",
    "circuit =  add_U_X(circuit, beta0)\n",
    "circuit =  add_U_C(circuit, gamma1)\n",
    "circuit =  add_U_X(circuit, beta1)\n",
    "\n",
    "## |beta, gamma>を作る\n",
    "state = QuantumState(n)\n",
    "state.set_zero_state()                     \n",
    "circuit.update_quantum_state(state)\n",
    "\n",
    "## 状態ベクトルの各成分の絶対値の二乗=観測確率\n",
    "probs = np.abs(state.get_vector())**2\n",
    "print(probs)\n",
    "\n",
    "## z方向に射影測定した時に得られる可能性があるビット列\n",
    "z_basis = [format(i,\"b\").zfill(n) for i in range(probs.size)]\n",
    "\n",
    "import matplotlib.pyplot as plt\n",
    "plt.figure(figsize=(10, 5))\n",
    "plt.xlabel(\"states\")\n",
    "plt.ylabel(\"probability(%)\")\n",
    "plt.bar(z_basis, probs*100)\n",
    "plt.show()"
   ]
  },
  {
   "cell_type": "markdown",
   "metadata": {},
   "source": [
    "$p=1$の時に比べ、圧倒的に大きい確率で真の解$|0101\\rangle, |1010\\rangle$が得られる確率が高いことが分かる。また、コスト関数の値も正しく−2に近づいている。\n",
    "\n",
    "このように、QAOAを用いる際には、変分量子回路の複雑さ$p$の大きさにも注意しながら実装する必要があるだろう。"
   ]
  },
  {
   "cell_type": "markdown",
   "metadata": {},
   "source": [
    "### 参考文献\n",
    "\n",
    "[1] E. Farhi, J. Goldstone, and S. Gutmann, “A Quantum Approximate Optimization Algorithm”, [arXiv:1411.4028](https://arxiv.org/abs/1411.4028) (2014).\n",
    "\n",
    "[2] Eddie Farhi: A Quantum Approximate Optimization Algorithm, https://www.youtube.com/watch?v=J8y0VhnISi8"
   ]
  }
 ],
 "metadata": {
  "kernelspec": {
   "display_name": "Python 3",
   "language": "python",
   "name": "python3"
  },
  "language_info": {
   "codemirror_mode": {
    "name": "ipython",
    "version": 3
   },
   "file_extension": ".py",
   "mimetype": "text/x-python",
   "name": "python",
   "nbconvert_exporter": "python",
   "pygments_lexer": "ipython3",
   "version": "3.7.3"
  },
  "varInspector": {
   "cols": {
    "lenName": 16,
    "lenType": 16,
    "lenVar": 40
   },
   "kernels_config": {
    "python": {
     "delete_cmd_postfix": "",
     "delete_cmd_prefix": "del ",
     "library": "var_list.py",
     "varRefreshCmd": "print(var_dic_list())"
    },
    "r": {
     "delete_cmd_postfix": ") ",
     "delete_cmd_prefix": "rm(",
     "library": "var_list.r",
     "varRefreshCmd": "cat(var_dic_list()) "
    }
   },
   "types_to_exclude": [
    "module",
    "function",
    "builtin_function_or_method",
    "instance",
    "_Feature"
   ],
   "window_display": false
  }
 },
 "nbformat": 4,
 "nbformat_minor": 2
}
